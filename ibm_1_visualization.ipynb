{
  "nbformat": 4,
  "nbformat_minor": 0,
  "metadata": {
    "colab": {
      "provenance": [],
      "collapsed_sections": [
        "AQzr2twJBcfJ",
        "SxePPy4MTZhx",
        "svIeilvj2syp",
        "qrQVMya9BME6",
        "iYfXqg5aEqaO",
        "s5w-Q0ljNZUa",
        "hdwYt09QbQ6x",
        "Lo4fa6uZiLLP",
        "d5Wemmu-Bjxx"
      ]
    },
    "kernelspec": {
      "name": "python3",
      "display_name": "Python 3"
    },
    "language_info": {
      "name": "python"
    }
  },
  "cells": [
    {
      "cell_type": "markdown",
      "source": [
        "# ***LINE PLOTS***"
      ],
      "metadata": {
        "id": "AQzr2twJBcfJ"
      }
    },
    {
      "cell_type": "code",
      "execution_count": null,
      "metadata": {
        "id": "7jZOmHay0q1p"
      },
      "outputs": [],
      "source": [
        "%matplotlib inline\n",
        "import numpy as np\n",
        "import pandas as pd\n",
        "import matplotlib.pyplot as plt\n",
        "import seaborn as sns"
      ]
    },
    {
      "cell_type": "code",
      "source": [
        "# df_can = pd.read_excel('canada.xlsx',skiprows = range(20),skipfooter=2)\n",
        "# # print(df_can.head())\n",
        "# # df_can.columns.to_list()\n",
        "# # df_can.dtypes\n",
        "# df_can.drop(['AREA','REG','DEV','Type','Coverage'],axis=1,inplace=True)\n",
        "# # df_can.head()\n"
      ],
      "metadata": {
        "id": "VU-l9h_f7cKQ"
      },
      "execution_count": null,
      "outputs": []
    },
    {
      "cell_type": "code",
      "source": [
        "\n",
        "# df_can.rename(columns={'OdName':'country','AreaName':'continent','RegName':'region'},inplace=True)\n",
        "# # df_can.head()\n",
        "\n",
        "# df_can['total'] = df_can.sum(axis=1)\n",
        "# df_can.head()"
      ],
      "metadata": {
        "id": "TC-TZZgY_VW5"
      },
      "execution_count": null,
      "outputs": []
    },
    {
      "cell_type": "code",
      "source": [
        "# df_can[['country',1980,1981,1982,1983,1984,1985]]\n",
        "# df_can.head()\n",
        "\n",
        "# df_can.set_index('Country',inplace=True)                                      #დეფოლტად ინდექსი იყო რიცხვები ეხლა გახდა ქვეყნები\n",
        "# df_can.head()\n",
        "\n",
        "# df_can.loc['Japan']                                                           #japan სტრიქონის წამოღება ორნაირად\n",
        "# df_can.iloc[87]  \n",
        "\n",
        "# df_can.loc['Japan',2013]                                                      #982\n",
        "# df_can.iloc[87,36]                                                            #982\n",
        "\n",
        "# df_can.loc['Japan',[1980,1981,1982,1983]]                              \n",
        "# df_can.iloc[87,[3,4,5,6]]"
      ],
      "metadata": {
        "id": "uUHOlpY6Abk5"
      },
      "execution_count": null,
      "outputs": []
    },
    {
      "cell_type": "markdown",
      "source": [
        "Column names that are integers (such as the years) might introduce some confusion. For example, when we are referencing the year 2013, one might confuse that when the 2013th positional index.   \n",
        "To avoid this ambuigity, let's convert the column names into strings: '1980' to '2013'. \n",
        "\n",
        "\n"
      ],
      "metadata": {
        "id": "noGyvVgrFmPS"
      }
    },
    {
      "cell_type": "code",
      "source": [
        "# df_can.columns = list(map(str,df_can.columns))\n",
        "# df_can.columns\n",
        "\n",
        "\n",
        "years = list(map(str,range(1980,2014)))                                       #შევქმენი წლების ლისტი ტიპი String  რადგან ყველა სვეტი იყოს string ტიპის\n",
        "# years\n",
        "\n",
        "# years = []                                                                    #ალტერნატიული გზა უფრო გრძელი \n",
        "# for i in range(1980,2014):\n",
        "#   years.append(str(i))\n",
        "# years\n"
      ],
      "metadata": {
        "id": "lNpcENNgD2LR"
      },
      "execution_count": null,
      "outputs": []
    },
    {
      "cell_type": "code",
      "source": [
        "# haiti = df_can.loc['Haiti',years] \n",
        "# haiti.index = haiti.index.map(int)                                            #year ტიპი ისევ int გავხადე ვიზუალიზაციისთვის \n",
        "# # haiti\n",
        "# haiti.plot(kind='line')\n",
        "# plt.title('imigration from haiti')\n",
        "# plt.xlabel('years')\n",
        "# plt.ylabel('number of imigrants')\n",
        "# plt.text(2000,6000,'2010 earthquake')\n",
        "\n",
        "# plt.show()"
      ],
      "metadata": {
        "id": "5GAquGvbMXP0"
      },
      "execution_count": null,
      "outputs": []
    },
    {
      "cell_type": "markdown",
      "source": [
        "# ***area plots week 2***\n",
        "\n"
      ],
      "metadata": {
        "id": "SxePPy4MTZhx"
      }
    },
    {
      "cell_type": "code",
      "source": [
        "df_can = pd.read_excel('canada.xlsx',skiprows = range(20),skipfooter=2)\n",
        "df_can.drop(['AREA','REG','DEV','Type','Coverage'],axis=1,inplace=True)\n",
        "df_can.rename(columns={'OdName':'country','AreaName':'continent','RegName':'region'},inplace=True)\n",
        "df_can['total'] = df_can.sum(axis=1)\n",
        "df_can.columns = list(map(str, df_can.columns))\n",
        "# df_can.set_index('country',inplace=True)                                                   #დეფოლტად ინდექსი იყო რიცხვები ეხლა გახდა ქვეყნები\n",
        "# df_can.head()"
      ],
      "metadata": {
        "id": "ZFsKFBunMfnt",
        "colab": {
          "base_uri": "https://localhost:8080/"
        },
        "outputId": "deee24cc-87c7-429f-b804-d3d448dbdf7d"
      },
      "execution_count": null,
      "outputs": [
        {
          "output_type": "stream",
          "name": "stderr",
          "text": [
            "<ipython-input-109-b667456ec267>:4: FutureWarning: Dropping of nuisance columns in DataFrame reductions (with 'numeric_only=None') is deprecated; in a future version this will raise TypeError.  Select only valid columns before calling the reduction.\n",
            "  df_can['total'] = df_can.sum(axis=1)\n"
          ]
        }
      ]
    },
    {
      "cell_type": "code",
      "source": [
        "# df_can.sort_values(['total'],ascending=False,axis=0,inplace=True)               #დავალაგე მიგრანტთა რაოდენობის კლების მიხედვით\n",
        "# years = list(map(str,range(1980,2014)))                                         #შევქმენი წლების ლისტი ტიპი String რადგან ყველა სვეტი იყოს string ტიპის\n",
        "# top_5 = df_can.head()    \n",
        "# top_5 = top_5[years].transpose()\n",
        "# top_5.index = top_5.index.map(int)                                              #index ანუ წლები იყო object ტიპი და გავხადე int ტიპი გრაფიკისთვის\n",
        "# top_5.head()"
      ],
      "metadata": {
        "id": "Mfr6smUNUk93"
      },
      "execution_count": null,
      "outputs": []
    },
    {
      "cell_type": "code",
      "source": [
        "# top_5.plot(kind='area',stacked=False,figsize=(20,10),alpha=0.6)\n",
        "# plt.title('imigration trend of top 5 countries')\n",
        "# plt.xlabel('years')\n",
        "# plt.ylabel('number of imigrants')"
      ],
      "metadata": {
        "id": "gKPCaaQZzIFc"
      },
      "execution_count": null,
      "outputs": []
    },
    {
      "cell_type": "markdown",
      "source": [
        "# ***HISTOGRAMS***"
      ],
      "metadata": {
        "id": "svIeilvj2syp"
      }
    },
    {
      "cell_type": "code",
      "source": [
        "# df_can['2013']\n",
        "# count,bin_edges = np.histogram(df_can['2013'])\n",
        "# print(count)                                                                    #[178  11   1   2   0   0   0   0   1   2]\n",
        "# print(bin_eges)                                                                 #[0.   3412.9  6825.8 10238.7 13651.6 17064.5 20477.4 23890.3 27303. 230716.1 34129]"
      ],
      "metadata": {
        "id": "2nsNkucX237J"
      },
      "execution_count": null,
      "outputs": []
    },
    {
      "cell_type": "markdown",
      "source": [
        "178 countries contributed between 0 to 3412.9 immigrants             \n",
        "11 countries contributed between 3412.9 to 6825.8 immigrants        \n",
        "1 country contributed between 6285.8 to 10238.7 immigrants, and so on."
      ],
      "metadata": {
        "id": "b27dwfOP48mI"
      }
    },
    {
      "cell_type": "code",
      "source": [
        "# df_can['2013'].plot(kind='hist',figsize=(8,5),xticks=bin_edges)\n",
        "# plt.title('histogrm of imigration from 195 countries in 2013')\n",
        "# plt.xlabel('number of imigrants')\n",
        "# plt.ylabel('number of countries')"
      ],
      "metadata": {
        "id": "fiwqISgh5Fix"
      },
      "execution_count": null,
      "outputs": []
    },
    {
      "cell_type": "markdown",
      "source": [
        "Question: What is the immigration distribution for Denmark, Norway, and Sweden for years 1980 - 2013?"
      ],
      "metadata": {
        "id": "ga1DK0Ho6ZvQ"
      }
    },
    {
      "cell_type": "code",
      "source": [
        "# countries_df = df_can.loc[['Denmark','Norway','Sweden']]\n",
        "# years = list(map(str,range(1980,2014)))                                         #შევქმენი წლების ლისტი ტიპი String რადგან ყველა სვეტი იყოს string ტიპის/\n",
        "# countries_years = countries_df[years]\n",
        "# df_t = countries_years.transpose()\n",
        "# count,bins_edges = np.histogram(df_t,15)"
      ],
      "metadata": {
        "id": "00O_khZt6dl1"
      },
      "execution_count": null,
      "outputs": []
    },
    {
      "cell_type": "code",
      "source": [
        "# # let's get the x-tick values\n",
        "# count, bin_edges = np.histogram(df_t, 15)\n",
        "# df_t.plot(kind ='hist', \n",
        "#           figsize=(10, 6),\n",
        "#           bins=15,\n",
        "#           alpha=0.6,\n",
        "#           xticks=bin_edges,\n",
        "#           color=['coral', 'darkslateblue', 'mediumseagreen']\n",
        "#          )\n",
        "\n",
        "# plt.title('Histogram of Immigration from Denmark, Norway, and Sweden from 1980 - 2013')\n",
        "# plt.ylabel('Number of Years')\n",
        "# plt.xlabel('Number of Immigrants')\n"
      ],
      "metadata": {
        "id": "wiEo8wD09jyS"
      },
      "execution_count": null,
      "outputs": []
    },
    {
      "cell_type": "markdown",
      "source": [
        "# ***BAR CHARTS***"
      ],
      "metadata": {
        "id": "qrQVMya9BME6"
      }
    },
    {
      "cell_type": "markdown",
      "source": [
        "Question: Let's compare the number of Icelandic immigrants (country = 'Iceland') to Canada from year 1980 to 2013."
      ],
      "metadata": {
        "id": "2AKRCAaGCOe3"
      }
    },
    {
      "cell_type": "code",
      "source": [
        "# iceland_df = df_can.loc['Iceland',years]\n",
        "# iceland_df.plot(kind='bar',figsize=(10,6))\n",
        "# plt.xlabel('Year')\n",
        "# plt.ylabel('Number of immigrants') \n",
        "# plt.title('Icelandic immigrants to Canada from 1980 to 2013')\n",
        "\n",
        "\n",
        "# plt.annotate('',  # s: str. will leave it blank for no text\n",
        "#              xy=(32, 70),  # place head of the arrow at point (year 2012 , pop 70)\n",
        "#              xytext=(28, 20),  # place base of the arrow at point (year 2008 , pop 20)\n",
        "#              xycoords='data',  # will use the coordinate system of the object being annotated\n",
        "#              arrowprops=dict(arrowstyle='->', connectionstyle='arc3', color='blue', lw=2)\n",
        "#              )\n",
        "\n",
        "# # Annotate Text\n",
        "# plt.annotate('2008 - 2011 Financial Crisis',  # text to display\n",
        "#              xy=(28, 30),  # start the text at at point (year 2008 , pop 30)\n",
        "#              rotation=72.5,  # based on trial and error to match the arrow\n",
        "#              va='bottom',  # want the text to be vertically 'bottom' aligned\n",
        "#              ha='left',  # want the text to be horizontally 'left' algned.\n",
        "#              )"
      ],
      "metadata": {
        "id": "2Ui3IZsRAB8N"
      },
      "execution_count": null,
      "outputs": []
    },
    {
      "cell_type": "markdown",
      "source": [
        "# **PIE CHARTS**"
      ],
      "metadata": {
        "id": "iYfXqg5aEqaO"
      }
    },
    {
      "cell_type": "code",
      "source": [
        "# df_continents = df_can.groupby('continent',axis=0).sum()\n",
        "# # df_continents\n",
        "# colors_list = ['gold', 'yellowgreen', 'lightcoral', 'lightskyblue', 'lightgreen', 'pink']\n",
        "# explode_list=[0.2,0,0,0,0.2,0.2]\n",
        "\n",
        "# df_continents['total'].plot(kind='pie',\n",
        "#                             figsize=(15, 6),\n",
        "#                             autopct='%1.1f%%', \n",
        "#                             startangle=90,    \n",
        "#                             shadow=True,       \n",
        "#                             labels=None,                                       # turn off labels on pie chart\n",
        "#                             pctdistance=1.12,                                  # the ratio between the center of each pie slice and the start of the text generated by autopct \n",
        "#                             colors=colors_list,                                # add custom colors\n",
        "#                             explode=explode_list                               # 'explode' lowest 3 continents\n",
        "#                             )\n",
        "# plt.title('Immigration to Canada by Continent [1980 - 2013]', y=1.12) \n",
        "# plt.axis('equal') \n",
        "\n",
        "# plt.legend(labels=df_continents.index,loc='upper right')\n"
      ],
      "metadata": {
        "id": "QrAG8hJFEsTC"
      },
      "execution_count": null,
      "outputs": []
    },
    {
      "cell_type": "markdown",
      "source": [
        "# ***SCATTER PLOT***"
      ],
      "metadata": {
        "id": "s5w-Q0ljNZUa"
      }
    },
    {
      "cell_type": "code",
      "source": [
        "# df_total = pd.DataFrame(df_can[years].sum(axis=0));                             #get the total population per year\n",
        "# df_total.index = map(int,df_total.index)                                        # change the years to type int (useful for regression later on)\n",
        "# df_total.reset_index(inplace=True)\n",
        "# df_total.columns=['year','total']\n",
        "# # df_total    "
      ],
      "metadata": {
        "id": "_YMJsTI1Nc1F"
      },
      "execution_count": null,
      "outputs": []
    },
    {
      "cell_type": "code",
      "source": [
        "# df_total.plot(kind='scatter',x='year',y='total',color='darkblue',figsize=(10,6))\n",
        "# plt.title('total imigration to canada 1980-2013')\n",
        "# plt.xlabel('year')\n",
        "# plt.ylabel('total')"
      ],
      "metadata": {
        "id": "RBV7OAF8PFIU"
      },
      "execution_count": null,
      "outputs": []
    },
    {
      "cell_type": "markdown",
      "source": [
        "So let's try to plot a linear line of best fit, and use it to predict the number of immigrants in 2015?"
      ],
      "metadata": {
        "id": "X2tu34XkQyqV"
      }
    },
    {
      "cell_type": "code",
      "source": [
        "# x = df_total['year']\n",
        "# y = df_total['total']\n",
        "# fit = np.polyfit(x,y,deg=1)\n",
        "# # fit                                                                             #array([ 5.56709228e+03, -1.09261952e+07])\n",
        "# df_total.plot(kind='scatter', x='year', y='total', figsize=(10, 6), color='darkblue')\n",
        "\n",
        "# plt.title('Total Immigration to Canada from 1980 - 2013')\n",
        "# plt.xlabel('Year')\n",
        "# plt.ylabel('Number of Immigrants')\n",
        "\n",
        "# # plot line of best fit\n",
        "# plt.plot(x, fit[0] * x + fit[1], color='red') # recall that x is the Years\n",
        "# plt.annotate('y={0:.0f} x + {1:.0f}'.format(fit[0], fit[1]), xy=(2000, 150000))"
      ],
      "metadata": {
        "id": "azE77QHZQ0US"
      },
      "execution_count": null,
      "outputs": []
    },
    {
      "cell_type": "markdown",
      "source": [
        "# ***REGRESSION PLOTS***\n"
      ],
      "metadata": {
        "id": "hdwYt09QbQ6x"
      }
    },
    {
      "cell_type": "code",
      "source": [
        "# df_tot = pd.DataFrame(df_can[years].sum())\n",
        "# df_tot.index = map(float,df_tot.index)                                         #change the years to type float (useful for regression later on)\n",
        "# df_tot.reset_index(inplace=True)\n",
        "# df_tot.columns = ['year','total']\n",
        "# # df_tot"
      ],
      "metadata": {
        "id": "bC6k2sZYbVS-"
      },
      "execution_count": null,
      "outputs": []
    },
    {
      "cell_type": "code",
      "source": [
        "# plt.figure(figsize=(15,10))\n",
        "# sns.set_style('whitegrid')\n",
        "# ax = sns.regplot(x='year',y='total',data=df_tot,color='green',marker='^',scatter_kws={'s': 200})                  #scatter_kws={'s': 200} ზომის გაზრდა\n",
        "# ax.set(xlabel='years',ylabel='total imigrants')\n",
        "# ax.set_title('total imigration to canada 1980-2013')"
      ],
      "metadata": {
        "id": "K9x9GbC3eb-G"
      },
      "execution_count": null,
      "outputs": []
    },
    {
      "cell_type": "markdown",
      "source": [],
      "metadata": {
        "id": "9SUIeYA8iJy-"
      }
    },
    {
      "cell_type": "markdown",
      "source": [],
      "metadata": {
        "id": "_gxGeclQiKCl"
      }
    },
    {
      "cell_type": "markdown",
      "source": [],
      "metadata": {
        "id": "5g6X92RziTqe"
      }
    },
    {
      "cell_type": "markdown",
      "source": [],
      "metadata": {
        "id": "bns9tAHPiUtp"
      }
    },
    {
      "cell_type": "markdown",
      "source": [],
      "metadata": {
        "id": "a5jnXhkViKTe"
      }
    },
    {
      "cell_type": "markdown",
      "source": [
        " "
      ],
      "metadata": {
        "id": "ZoYnixPhiKxt"
      }
    },
    {
      "cell_type": "markdown",
      "source": [
        "# ***Visualize geospatial data with Folium***"
      ],
      "metadata": {
        "id": "Lo4fa6uZiLLP"
      }
    },
    {
      "cell_type": "code",
      "source": [
        "import folium\n",
        "# # world_map=folium.Map()                                                                             #define the world map centered around Canada\n",
        "# # world_map = folium.Map(location=[42.3154, 43.3569])                                                #42.3154° N, 43.3569° E       საქართველოს კოორდინატები\n",
        "# # world_map = folium.Map(location=[56.130, -106.35],zoom_start=4,tiles='Stamen Toner')               #tiles='Stamen Toner'  is black and white theme   \n",
        "# world_map = folium.Map(location=[56.130, -106.35],zoom_start=4,tiles='Stamen Terrain')               #'Stamen Terrain'   natural vegetation colors\n",
        "# world_map                                                                                          "
      ],
      "metadata": {
        "id": "Ei5fn2B3iSRK"
      },
      "execution_count": null,
      "outputs": []
    },
    {
      "cell_type": "markdown",
      "source": [
        "police department incidents"
      ],
      "metadata": {
        "id": "d1p4Atd4qhyy"
      }
    },
    {
      "cell_type": "code",
      "source": [
        "# URL = 'https://cf-courses-data.s3.us.cloud-object-storage.appdomain.cloud/IBMDeveloperSkillsNetwork-DV0101EN-SkillsNetwork/Data%20Files/Police_Department_Incidents_-_Previous_Year__2016_.csv'\n",
        "# df_incidents = pd.read_csv(URL)                                                \n",
        "# # df_incidents                                                                  #150500 crimes\n",
        "# df_incidents = df_incidents.iloc[0:100,:]                                       #let's just work with the first 100 incidents in this dataset.\n",
        "# df_incidents\n",
        "# latitude = 37.77                                                                # San Francisco latitude and longitude values\n",
        "# longitude = -122.42\n",
        "# sanfran_map = folium.Map(location=[latitude,longitude],zoom_start=12)\n",
        "# # sanfran_map\n"
      ],
      "metadata": {
        "id": "Hf8aMXcOqa4I"
      },
      "execution_count": null,
      "outputs": []
    },
    {
      "cell_type": "code",
      "source": [
        "# tbilisi = folium.Map(location=[41.716,44.783],tiles=\"Stamen Toner\")              #We can use the CircleMarker() function to circle the coordinates\n",
        "# folium.CircleMarker(location=(41.716,44.783),radius=100,fill_color='green').add_to(tbilisi) \n",
        "# tbilisi"
      ],
      "metadata": {
        "id": "OOe5DLX39XGx"
      },
      "execution_count": null,
      "outputs": []
    },
    {
      "cell_type": "code",
      "source": [
        "# for lat,lng,label in zip(df_incidents.Y,df_incidents.X,df_incidents.Category):                              #y და x სვეტების გაერთიანება zip-ით\n",
        "#   folium.features.CircleMarker(\n",
        "#       [lat,lng],\n",
        "#       radius=5,\n",
        "#       color='black',                                                            ##define how big you want the circle markers to be\n",
        "#       fill=True,\n",
        "#       popup=label,\n",
        "#       fill_color='red',\n",
        "#       fill_ocapity=0.6).add_to(sanfran_map)\n",
        "# sanfran_map"
      ],
      "metadata": {
        "id": "5JRQQ-VO2CkC"
      },
      "execution_count": null,
      "outputs": []
    },
    {
      "cell_type": "markdown",
      "source": [
        "# ***CHOROPLETH MAPS***"
      ],
      "metadata": {
        "id": "d5Wemmu-Bjxx"
      }
    },
    {
      "cell_type": "code",
      "source": [
        "# import json\n",
        "# import requests\n",
        "# url = 'https://cf-courses-data.s3.us.cloud-object-storage.appdomain.cloud/IBMDeveloperSkillsNetwork-DV0101EN-SkillsNetwork/Data%20Files/world_countries.json'\n",
        "\n",
        "# r = requests.get(url)\n",
        "# result_json = r.text\n",
        "# world_geo = json.loads(result_json)\n",
        "# world_geo\n",
        "\n",
        "# world_map = folium.Map(location=[0,0],start_zoom=2)"
      ],
      "metadata": {
        "id": "p1B_saZkAkF2",
        "colab": {
          "base_uri": "https://localhost:8080/"
        },
        "outputId": "4beee58d-c07b-4fa9-b954-9962b97e1323"
      },
      "execution_count": null,
      "outputs": [
        {
          "output_type": "execute_result",
          "data": {
            "text/plain": [
              "dict"
            ]
          },
          "metadata": {},
          "execution_count": 106
        }
      ]
    },
    {
      "cell_type": "code",
      "source": [
        "# world_map.choropleth(\n",
        "#     geo_data=world_geo,\n",
        "#     data=df_can,\n",
        "#     columns=['country','total'],\n",
        "#     key_on='feature.properties.name',\n",
        "#     fill_color='YlOrRd', \n",
        "#     fill_opacity=0.7, \n",
        "#     line_opacity=0.3,\n",
        "#     legend_name='Immigration to Canada'\n",
        "# )\n",
        "\n",
        "# world_map"
      ],
      "metadata": {
        "id": "09qaPJFII9ql"
      },
      "execution_count": null,
      "outputs": []
    }
  ]
}